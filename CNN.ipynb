{
 "cells": [
  {
   "cell_type": "code",
   "execution_count": 1,
   "id": "0e1c99b6",
   "metadata": {},
   "outputs": [],
   "source": [
    "import tensorflow as tf\n",
    "import numpy as np\n",
    "from tensorflow.keras.models import Sequential\n",
    "from tensorflow.keras.layers import Dense, Dropout, Activation, Flatten, Conv2D, MaxPooling2D\n",
    "import pickle\n"
   ]
  },
  {
   "cell_type": "code",
   "execution_count": 2,
   "id": "ffb59d9e",
   "metadata": {},
   "outputs": [],
   "source": [
    "pickle_in = open(\"X.pickle\",\"rb\")\n",
    "X = pickle.load(pickle_in)\n",
    "X = np.array(X).reshape(-1, 100, 100,1) #founded solution\n",
    "pickle_in = open(\"y.pickle\",\"rb\")\n",
    "y = pickle.load(pickle_in) #founded solution\n",
    "y = np.array(y)   \n",
    "# \"`validation_split` is only supported for Tensors or NumPy \"\n",
    "#\"arrays, found following types in the input: {}\".format(unsplitable\n",
    "#solution\n",
    "#For anyone getting the following error \"validation_split is only supported for Tensors or NumPy \" add y = np.array(y)   under X = np.array(X).reshape(-1, IMG_SIZE, IMG_SIZE,1)"
   ]
  },
  {
   "cell_type": "code",
   "execution_count": 3,
   "id": "cf2e222f",
   "metadata": {},
   "outputs": [],
   "source": [
    "X = X/255.0 #x_train = tf.keras.utils.normalize(x_train, axis=1)"
   ]
  },
  {
   "cell_type": "code",
   "execution_count": 4,
   "id": "1227783e",
   "metadata": {},
   "outputs": [],
   "source": [
    "model = Sequential()\n",
    "#first layer\n",
    "model.add(Conv2D(64, (3,3), input_shape = X.shape[1:]))\n",
    "model.add(Activation(\"relu\"))\n",
    "model.add(MaxPooling2D(pool_size=(2,2)))\n",
    "\n",
    "#second layer\n",
    "model.add(Conv2D(64, (3,3)))\n",
    "model.add(Activation(\"relu\"))\n",
    "model.add(MaxPooling2D(pool_size=(2,2)))\n",
    "\n",
    "#\"normal\" hiden layer\n",
    "model.add(Flatten())\n",
    "model.add(Dense(64))\n",
    "\n",
    "#outpu layer\n",
    "model.add(Dense(1))\n",
    "model.add(Activation(\"sigmoid\"))"
   ]
  },
  {
   "cell_type": "code",
   "execution_count": 6,
   "id": "0dbed6f8",
   "metadata": {},
   "outputs": [
    {
     "name": "stdout",
     "output_type": "stream",
     "text": [
      "Epoch 1/10\n",
      "702/702 [==============================] - 125s 177ms/step - loss: 0.5207 - accuracy: 0.7435 - val_loss: 0.5023 - val_accuracy: 0.7527\n",
      "Epoch 2/10\n",
      "702/702 [==============================] - 119s 169ms/step - loss: 0.4642 - accuracy: 0.7814 - val_loss: 0.4754 - val_accuracy: 0.7760\n",
      "Epoch 3/10\n",
      "702/702 [==============================] - 120s 171ms/step - loss: 0.4252 - accuracy: 0.8043 - val_loss: 0.4660 - val_accuracy: 0.7904\n",
      "Epoch 4/10\n",
      "702/702 [==============================] - 121s 172ms/step - loss: 0.3963 - accuracy: 0.8203 - val_loss: 0.4802 - val_accuracy: 0.7820\n",
      "Epoch 5/10\n",
      "702/702 [==============================] - 121s 173ms/step - loss: 0.3761 - accuracy: 0.8341 - val_loss: 0.4817 - val_accuracy: 0.7816\n",
      "Epoch 6/10\n",
      "702/702 [==============================] - 123s 176ms/step - loss: 0.3550 - accuracy: 0.8448 - val_loss: 0.4981 - val_accuracy: 0.7828\n",
      "Epoch 7/10\n",
      "702/702 [==============================] - 121s 173ms/step - loss: 0.3355 - accuracy: 0.8512 - val_loss: 0.5003 - val_accuracy: 0.7852\n",
      "Epoch 8/10\n",
      "702/702 [==============================] - 123s 175ms/step - loss: 0.3183 - accuracy: 0.8606 - val_loss: 0.5146 - val_accuracy: 0.7880\n",
      "Epoch 9/10\n",
      "702/702 [==============================] - 126s 179ms/step - loss: 0.3038 - accuracy: 0.8702 - val_loss: 0.5546 - val_accuracy: 0.7691\n",
      "Epoch 10/10\n",
      "702/702 [==============================] - 127s 181ms/step - loss: 0.2923 - accuracy: 0.8729 - val_loss: 0.5699 - val_accuracy: 0.7780\n"
     ]
    },
    {
     "data": {
      "text/plain": [
       "<keras.callbacks.History at 0x1e93cd322c0>"
      ]
     },
     "execution_count": 6,
     "metadata": {},
     "output_type": "execute_result"
    }
   ],
   "source": [
    "model.compile(optimizer='adam',loss='binary_crossentropy',metrics=['accuracy'])\n",
    "\n",
    "model.fit(X, y, batch_size=32, epochs=10, validation_split=0.1)"
   ]
  },
  {
   "cell_type": "code",
   "execution_count": 8,
   "id": "6c3717e2",
   "metadata": {
    "scrolled": true
   },
   "outputs": [
    {
     "name": "stderr",
     "output_type": "stream",
     "text": [
      "WARNING:absl:Found untraced functions such as _jit_compiled_convolution_op, _jit_compiled_convolution_op, _update_step_xla while saving (showing 3 of 3). These functions will not be directly callable after loading.\n"
     ]
    },
    {
     "name": "stdout",
     "output_type": "stream",
     "text": [
      "INFO:tensorflow:Assets written to: cat_or_dog.model\\assets\n"
     ]
    },
    {
     "name": "stderr",
     "output_type": "stream",
     "text": [
      "INFO:tensorflow:Assets written to: cat_or_dog.model\\assets\n"
     ]
    }
   ],
   "source": [
    "model.save('cat_or_dog.model')"
   ]
  },
  {
   "cell_type": "code",
   "execution_count": null,
   "id": "6c351625",
   "metadata": {},
   "outputs": [],
   "source": [
    "new_model = tf.keras.models.load_model('cat_or_dog.model')"
   ]
  },
  {
   "cell_type": "code",
   "execution_count": null,
   "id": "59d5bc3a",
   "metadata": {},
   "outputs": [],
   "source": []
  },
  {
   "cell_type": "code",
   "execution_count": null,
   "id": "d94ce260",
   "metadata": {},
   "outputs": [],
   "source": []
  }
 ],
 "metadata": {
  "kernelspec": {
   "display_name": "Python 3 (ipykernel)",
   "language": "python",
   "name": "python3"
  },
  "language_info": {
   "codemirror_mode": {
    "name": "ipython",
    "version": 3
   },
   "file_extension": ".py",
   "mimetype": "text/x-python",
   "name": "python",
   "nbconvert_exporter": "python",
   "pygments_lexer": "ipython3",
   "version": "3.10.9"
  }
 },
 "nbformat": 4,
 "nbformat_minor": 5
}
